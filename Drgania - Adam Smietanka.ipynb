{
 "cells": [
  {
   "cell_type": "markdown",
   "metadata": {},
   "source": [
    "# Podstawy drgań i aeroelastyczności"
   ]
  },
  {
   "cell_type": "markdown",
   "metadata": {},
   "source": [
    "Przedstawione rozwiązanie zostało przygotowane przy użyciu biblioteki SymPy."
   ]
  },
  {
   "cell_type": "code",
   "execution_count": 3,
   "metadata": {},
   "outputs": [],
   "source": [
    "from sympy import *\n",
    "from IPython.display import display, Image\n",
    "from sympy.physics.vector import *\n",
    "init_vprinting()"
   ]
  },
  {
   "cell_type": "markdown",
   "metadata": {},
   "source": [
    "## Dane"
   ]
  },
  {
   "cell_type": "markdown",
   "metadata": {},
   "source": [
    "Do znalezienia postaci rozwiązań małych drgań posłużę się danymi:"
   ]
  },
  {
   "cell_type": "code",
   "execution_count": 2,
   "metadata": {},
   "outputs": [],
   "source": [
    "m = 4 #[kg]\n",
    "M = 9 #[kg]\n",
    "a = 0.8 #[m]\n",
    "b = 1.9 #[m]\n",
    "c = 2.2 #[m]\n",
    "r = 0.8 #[m]\n",
    "k1 = 1800 #[N/m]\n",
    "k2 = 1600 #[N/m]\n",
    "k3 = 420 #[Nm/rad]"
   ]
  },
  {
   "cell_type": "markdown",
   "metadata": {},
   "source": [
    "## Rysunek"
   ]
  },
  {
   "cell_type": "markdown",
   "metadata": {},
   "source": [
    "Rysunek poglądowy bez zachowanej skali:"
   ]
  },
  {
   "cell_type": "markdown",
   "metadata": {},
   "source": [
    "![Rysunek układu](https://github.com/adamsmietanka/Drgania---projekt/blob/master/img/rysunek.PNG?raw=true)"
   ]
  },
  {
   "cell_type": "markdown",
   "metadata": {},
   "source": [
    "## Moment bezwładności ciała w ruchu obrotowym"
   ]
  },
  {
   "cell_type": "code",
   "execution_count": 3,
   "metadata": {},
   "outputs": [
    {
     "data": {
      "image/png": "[encoded data removed]",
      "text/latex": [
       "$$I_{z} = 11.39$$"
      ],
      "text/plain": [
       "I_z = 11.39"
      ]
     },
     "execution_count": 3,
     "metadata": {},
     "output_type": "execute_result"
    }
   ],
   "source": [
    "# Definiuję współrzedne do całkowania\n",
    "x, y, IZ = symbols('x y I_z')\n",
    "\n",
    "# Masa jednostkowa\n",
    "u = m/(a+b+c)\n",
    "\n",
    "# Definuję całki\n",
    "Ia = integrate(u * y**2, (y, 0, a))\n",
    "Ib = integrate(u * x**2, (x, 0, b))\n",
    "Ic = integrate(u * (y**2 + b**2), (y, 0, c))\n",
    "Iz = Ia + Ib + Ic\n",
    "\n",
    "# Zaokrąglam i wyświetlam wynik\n",
    "Eq(IZ, Iz.evalf(4))"
   ]
  },
  {
   "cell_type": "markdown",
   "metadata": {},
   "source": [
    "## Wektor prędkości środka masy M"
   ]
  },
  {
   "cell_type": "markdown",
   "metadata": {},
   "source": [
    "![Wektory położenia](https://github.com/adamsmietanka/Drgania---projekt/blob/master/img/wektory.PNG?raw=true)"
   ]
  },
  {
   "cell_type": "code",
   "execution_count": 4,
   "metadata": {},
   "outputs": [
    {
     "data": {
      "image/png": "[encoded data removed]",
      "text/latex": [
       "$$\\left[\\begin{matrix}- b \\operatorname{sin}\\left(\\alpha\\right) \\dot{\\alpha} - c \\operatorname{cos}\\left(\\alpha\\right) \\dot{\\alpha} - r \\operatorname{sin}\\left(\\beta\\right) \\dot{\\beta}\\\\b \\operatorname{cos}\\left(\\alpha\\right) \\dot{\\alpha} - c \\operatorname{sin}\\left(\\alpha\\right) \\dot{\\alpha} + r \\operatorname{cos}\\left(\\beta\\right) \\dot{\\beta}\\\\0\\end{matrix}\\right]$$"
      ],
      "text/plain": [
       "⎡-b⋅sin(α)⋅α̇ - c⋅cos(α)⋅α̇ - r⋅sin(β)⋅β̇⎤\n",
       "⎢                                        ⎥\n",
       "⎢b⋅cos(α)⋅α̇ - c⋅sin(α)⋅α̇ + r⋅cos(β)⋅β̇ ⎥\n",
       "⎢                                        ⎥\n",
       "⎣                   0                    ⎦"
      ]
     },
     "execution_count": 4,
     "metadata": {},
     "output_type": "execute_result"
    }
   ],
   "source": [
    "A, B, C, R, t, VZ = symbols('a b c r t V_z')\n",
    "\n",
    "# Definiuję kąty jako funkcje czasu\n",
    "alpha = Function('alpha')(t)\n",
    "beta = Function('beta')(t)\n",
    "\n",
    "# Definiuję wektory położenia\n",
    "r1 = Matrix([B * cos(alpha), B * sin(alpha), 0])\n",
    "r2 = Matrix([-C * sin(alpha), C * cos(alpha), 0])\n",
    "r3 = Matrix([R * cos(beta), R * sin(beta), 0])\n",
    "rz = r1 + r2 + r3\n",
    "\n",
    "# Obliczam pochodną wektora położenia po czasie\n",
    "Vz = rz.diff(t)\n",
    "Vz"
   ]
  },
  {
   "cell_type": "markdown",
   "metadata": {},
   "source": [
    "# Energia kinetyczna ciał"
   ]
  },
  {
   "cell_type": "markdown",
   "metadata": {},
   "source": [
    "Wyznaczam je jako funkcje współrzędnych i prędkości uogólnionych:\n",
    "\n",
    "\\begin{array}{ll}\n",
    "\\omega_1 = \\dot{\\alpha} &  \\omega_2 = \\dot{\\beta} \\\\\n",
    "T_1 = \\frac{1}{2} I_z \\omega_1^2 \\\\\n",
    "T_2 = \\frac{1}{2}M V_z^2 + \\frac{1}{2} I_w \\omega_2^2 & I_w = \\frac{1}{2}M r^2 \\\\\n",
    "\\end{array}"
   ]
  },
  {
   "cell_type": "code",
   "execution_count": 5,
   "metadata": {},
   "outputs": [
    {
     "data": {
      "image/png": "[encoded data removed]",
      "text/latex": [
       "$$T = 0.5 I_{z} \\dot{\\alpha}^{2} + 0.5 M b^{2} \\dot{\\alpha}^{2} + 1.0 M b r \\operatorname{cos}\\left(\\alpha - \\beta\\right) \\dot{\\alpha} \\dot{\\beta} + 0.5 M c^{2} \\dot{\\alpha}^{2} - 1.0 M c r \\operatorname{sin}\\left(\\alpha - \\beta\\right) \\dot{\\alpha} \\dot{\\beta} + 0.75 M r^{2} \\dot{\\beta}^{2}$$"
      ],
      "text/plain": [
       "              2          2   2                                       2   2    \n",
       "T = 0.5⋅I_z⋅α̇  + 0.5⋅M⋅b ⋅α̇  + 1.0⋅M⋅b⋅r⋅cos(α - β)⋅α̇⋅β̇ + 0.5⋅M⋅c ⋅α̇  - 1\n",
       "\n",
       "                                    2   2\n",
       ".0⋅M⋅c⋅r⋅sin(α - β)⋅α̇⋅β̇ + 0.75⋅M⋅r ⋅β̇ "
      ]
     },
     "metadata": {},
     "output_type": "display_data"
    }
   ],
   "source": [
    "# Symbole niezbędne do wyświetlenia wyniku\n",
    "MM, TT = symbols('M T')\n",
    "\n",
    "# Obliczam iloczyn skalarny wektora prędkości\n",
    "Vdot = Vz.dot(Vz)\n",
    "\n",
    "# Obliczam moment bezwładności walca\n",
    "Iw = 0.5 * MM * R**2\n",
    "\n",
    "# Obliczam energie kinetyczne ciał\n",
    "T1 = 0.5 * IZ * diff(alpha)**2\n",
    "T2 = 0.5 * MM * Vdot + 0.5 * Iw * diff(beta)**2\n",
    "T = T1 + T2\n",
    "\n",
    "# Wyświetlenie wyniku\n",
    "display(Eq(TT, T.simplify()))"
   ]
  },
  {
   "cell_type": "markdown",
   "metadata": {},
   "source": [
    "# Linearyzacja geometryczna"
   ]
  },
  {
   "cell_type": "markdown",
   "metadata": {},
   "source": [
    "![Linearyzacja](https://github.com/adamsmietanka/Drgania---projekt/blob/master/img/linearyzacja.PNG?raw=true)"
   ]
  },
  {
   "cell_type": "markdown",
   "metadata": {},
   "source": [
    "# Energia potencjalna ciał"
   ]
  },
  {
   "cell_type": "markdown",
   "metadata": {},
   "source": [
    "Wyznaczam je jako funkcje współrzędnych uogólnionych za pomocą zlinearyzowanych wielkości:\n",
    "\n",
    "\\begin{array}{ll}\n",
    "V_1=\\frac{1}{2}k_1\\Delta_{1}^2 & \\Delta_{1}=a\\sin{\\alpha}\\approx a\\alpha \\\\\n",
    "V_2=\\frac{1}{2}k_2\\Delta_{2}^2 & \\Delta_{2}=b\\sin{\\alpha}+2r\\sin{\\beta}-c(1-\\cos{\\alpha})\\approx b\\alpha+2r\\beta \\\\\n",
    "V_3=\\frac{1}{2}k_3\\delta_{3}^2 & \\delta_{3}=\\alpha - \\beta \\\\\n",
    "\\end{array}"
   ]
  },
  {
   "cell_type": "code",
   "execution_count": 6,
   "metadata": {},
   "outputs": [
    {
     "data": {
      "image/png": "[encoded data removed]",
      "text/latex": [
       "$$V = 0.5 a^{2} k_{1} \\alpha^{2} + 0.5 k_{2} \\left(b \\alpha + 2 r \\beta\\right)^{2} + 0.5 k_{3} \\left(\\alpha - \\beta\\right)^{2}$$"
      ],
      "text/plain": [
       "         2     2                       2                 2\n",
       "V = 0.5⋅a ⋅k₁⋅α  + 0.5⋅k₂⋅(b⋅α + 2⋅r⋅β)  + 0.5⋅k₃⋅(α - β) "
      ]
     },
     "execution_count": 6,
     "metadata": {},
     "output_type": "execute_result"
    }
   ],
   "source": [
    "# Symbole niezbędne do wyświetlenia wyniku\n",
    "K1, K2, K3, v = symbols('k1 k2 k3 V')\n",
    "\n",
    "# Energie potencjalne ciał\n",
    "V1 = 0.5 * K1 * (A*alpha)**2\n",
    "V2 = 0.5 * K2 * (B*alpha+2*R*beta)**2\n",
    "V3 = 0.5 * K3 * (alpha - beta)**2\n",
    "\n",
    "V = V1 + V2 + V3\n",
    "Eq(v, V)"
   ]
  },
  {
   "cell_type": "markdown",
   "metadata": {},
   "source": [
    "# Pochodne energii kinetycznych"
   ]
  },
  {
   "cell_type": "code",
   "execution_count": 7,
   "metadata": {},
   "outputs": [
    {
     "data": {
      "image/png": "[encoded data removed]",
      "text/latex": [
       "$$\\partial T/\\partial\\dot{\\alpha} = 1.0 I_{z} \\dot{\\alpha} + M \\left(b^{2} \\dot{\\alpha} + b r \\operatorname{cos}\\left(\\alpha - \\beta\\right) \\dot{\\beta} + c^{2} \\dot{\\alpha} - c r \\operatorname{sin}\\left(\\alpha - \\beta\\right) \\dot{\\beta}\\right)$$"
      ],
      "text/plain": [
       "                                                 ⎛ 2                          \n",
       "\\partial T/\\partial\\dot{\\alpha} = 1.0⋅I_z⋅α̇ + M⋅⎝b ⋅α̇ + b⋅r⋅cos(α - β)⋅β̇ + \n",
       "\n",
       " 2                       ⎞\n",
       "c ⋅α̇ - c⋅r⋅sin(α - β)⋅β̇⎠"
      ]
     },
     "metadata": {},
     "output_type": "display_data"
    },
    {
     "data": {
      "image/png": "[encoded data removed]",
      "text/latex": [
       "$$\\partial T/\\partial\\dot{\\beta} = M r \\left(1.0 b \\operatorname{cos}\\left(\\alpha - \\beta\\right) \\dot{\\alpha} - 1.0 c \\operatorname{sin}\\left(\\alpha - \\beta\\right) \\dot{\\alpha} + 1.5 r \\dot{\\beta}\\right)$$"
      ],
      "text/plain": [
       "\\partial T/\\partial\\dot{\\beta} = M⋅r⋅(1.0⋅b⋅cos(α - β)⋅α̇ - 1.0⋅c⋅sin(α - β)⋅α\n",
       "̇ + 1.5⋅r⋅β̇)"
      ]
     },
     "metadata": {},
     "output_type": "display_data"
    },
    {
     "data": {
      "image/png": "[encoded data removed]",
      "text/latex": [
       "$$\\partial T/\\partial\\alpha = - 1.0 M r \\left(b \\operatorname{sin}\\left(\\alpha - \\beta\\right) + c \\operatorname{cos}\\left(\\alpha - \\beta\\right)\\right) \\dot{\\alpha} \\dot{\\beta}$$"
      ],
      "text/plain": [
       "\\partial T/\\partial\\alpha = -1.0⋅M⋅r⋅(b⋅sin(α - β) + c⋅cos(α - β))⋅α̇⋅β̇"
      ]
     },
     "metadata": {},
     "output_type": "display_data"
    },
    {
     "data": {
      "image/png": "[encoded data removed]",
      "text/latex": [
       "$$\\partial T/\\partial\\beta = 1.0 M r \\left(b \\operatorname{sin}\\left(\\alpha - \\beta\\right) + c \\operatorname{cos}\\left(\\alpha - \\beta\\right)\\right) \\dot{\\alpha} \\dot{\\beta}$$"
      ],
      "text/plain": [
       "\\partial T/\\partial\\beta = 1.0⋅M⋅r⋅(b⋅sin(α - β) + c⋅cos(α - β))⋅α̇⋅β̇"
      ]
     },
     "metadata": {},
     "output_type": "display_data"
    }
   ],
   "source": [
    "# Definuję symbole do wyświetlenia\n",
    "dTA = symbols('\\partial\\\\ T/\\partial\\\\dot{\\\\alpha}')\n",
    "dTB = symbols('\\partial\\\\ T/\\partial\\\\dot{\\\\beta}')\n",
    "dTa = symbols('\\partial\\\\ T/\\partial\\\\alpha')\n",
    "dTb = symbols('\\partial\\\\ T/\\partial\\\\beta')\n",
    "\n",
    "# Obliczam pochodne\n",
    "TdA = diff(T, diff(alpha)).simplify()\n",
    "TdB = diff(T, diff(beta)).simplify()\n",
    "Tda = diff(T, alpha).simplify()\n",
    "Tdb = diff(T, beta).simplify()\n",
    "\n",
    "# Wyświetlam wynik\n",
    "display(Eq(dTA, TdA), Eq(dTB, TdB), Eq(dTa, Tda), Eq(dTb, Tdb))"
   ]
  },
  {
   "cell_type": "markdown",
   "metadata": {},
   "source": [
    "# Pochodne energii potencjalnych"
   ]
  },
  {
   "cell_type": "code",
   "execution_count": 8,
   "metadata": {},
   "outputs": [
    {
     "data": {
      "image/png": "[encoded data removed]",
      "text/latex": [
       "$$\\partial V/\\partial\\alpha = 1.0 a^{2} k_{1} \\alpha + 1.0 b^{2} k_{2} \\alpha + 2.0 b k_{2} r \\beta + 1.0 k_{3} \\alpha - 1.0 k_{3} \\beta$$"
      ],
      "text/plain": [
       "                                 2             2                              \n",
       "\\partial V/\\partial\\alpha = 1.0⋅a ⋅k₁⋅α + 1.0⋅b ⋅k₂⋅α + 2.0⋅b⋅k₂⋅r⋅β + 1.0⋅k₃⋅\n",
       "\n",
       "            \n",
       "α - 1.0⋅k₃⋅β"
      ]
     },
     "metadata": {},
     "output_type": "display_data"
    },
    {
     "data": {
      "image/png": "[encoded data removed]",
      "text/latex": [
       "$$\\partial V/\\partial\\beta = 2.0 b k_{2} r \\alpha + 4.0 k_{2} r^{2} \\beta - 1.0 k_{3} \\alpha + 1.0 k_{3} \\beta$$"
      ],
      "text/plain": [
       "                                                  2                        \n",
       "\\partial V/\\partial\\beta = 2.0⋅b⋅k₂⋅r⋅α + 4.0⋅k₂⋅r ⋅β - 1.0⋅k₃⋅α + 1.0⋅k₃⋅β"
      ]
     },
     "metadata": {},
     "output_type": "display_data"
    }
   ],
   "source": [
    "# Definuję symbole do wyświetlenia\n",
    "dVa = symbols('\\partial\\\\ V/\\partial\\\\alpha')\n",
    "dVb = symbols('\\partial\\\\ V/\\partial\\\\beta')\n",
    "\n",
    "# Obliczam pochodne\n",
    "Vda = diff(V, alpha).expand()\n",
    "Vdb = diff(V, beta).expand()\n",
    "\n",
    "# Wyświetlam wynik\n",
    "display(Eq(dVa, Vda), Eq(dVb, Vdb))"
   ]
  },
  {
   "cell_type": "markdown",
   "metadata": {},
   "source": [
    "# Pochodne po czasie"
   ]
  },
  {
   "cell_type": "code",
   "execution_count": 9,
   "metadata": {},
   "outputs": [
    {
     "data": {
      "image/png": "[encoded data removed]",
      "text/latex": [
       "$$dt(\\partial T/\\partial\\dot{\\alpha}) = 1.0 I_{z} \\ddot{\\alpha} + M \\left(b^{2} \\ddot{\\alpha} - b r \\left(\\dot{\\alpha} - \\dot{\\beta}\\right) \\operatorname{sin}\\left(\\alpha - \\beta\\right) \\dot{\\beta} + b r \\operatorname{cos}\\left(\\alpha - \\beta\\right) \\ddot{\\beta} + c^{2} \\ddot{\\alpha} - c r \\left(\\dot{\\alpha} - \\dot{\\beta}\\right) \\operatorname{cos}\\left(\\alpha - \\beta\\right) \\dot{\\beta} - c r \\operatorname{sin}\\left(\\alpha - \\beta\\right) \\ddot{\\beta}\\right)$$"
      ],
      "text/plain": [
       "                                                     ⎛ 2                      \n",
       "dt(\\partial T/\\partial\\dot{\\alpha}) = 1.0⋅I_z⋅α̈ + M⋅⎝b ⋅α̈ - b⋅r⋅(α̇ - β̇)⋅si\n",
       "\n",
       "                                   2                                          \n",
       "n(α - β)⋅β̇ + b⋅r⋅cos(α - β)⋅β̈ + c ⋅α̈ - c⋅r⋅(α̇ - β̇)⋅cos(α - β)⋅β̇ - c⋅r⋅si\n",
       "\n",
       "           ⎞\n",
       "n(α - β)⋅β̈⎠"
      ]
     },
     "metadata": {},
     "output_type": "display_data"
    },
    {
     "data": {
      "image/png": "[encoded data removed]",
      "text/latex": [
       "$$dt(\\partial T/\\partial\\dot{\\beta}) = M r \\left(- 1.0 b \\left(\\dot{\\alpha} - \\dot{\\beta}\\right) \\operatorname{sin}\\left(\\alpha - \\beta\\right) \\dot{\\alpha} + 1.0 b \\operatorname{cos}\\left(\\alpha - \\beta\\right) \\ddot{\\alpha} - 1.0 c \\left(\\dot{\\alpha} - \\dot{\\beta}\\right) \\operatorname{cos}\\left(\\alpha - \\beta\\right) \\dot{\\alpha} - 1.0 c \\operatorname{sin}\\left(\\alpha - \\beta\\right) \\ddot{\\alpha} + 1.5 r \\ddot{\\beta}\\right)$$"
      ],
      "text/plain": [
       "dt(\\partial T/\\partial\\dot{\\beta}) = M⋅r⋅(-1.0⋅b⋅(α̇ - β̇)⋅sin(α - β)⋅α̇ + 1.0\n",
       "⋅b⋅cos(α - β)⋅α̈ - 1.0⋅c⋅(α̇ - β̇)⋅cos(α - β)⋅α̇ - 1.0⋅c⋅sin(α - β)⋅α̈ + 1.5⋅r\n",
       "⋅β̈)"
      ]
     },
     "metadata": {},
     "output_type": "display_data"
    }
   ],
   "source": [
    "# Definuję symbole do wyświetlenia\n",
    "dtdTA = symbols('dt(\\partial\\\\ T/\\partial\\\\dot{\\\\alpha})')\n",
    "dtdTB = symbols('dt(\\partial\\\\ T/\\partial\\\\dot{\\\\beta})')\n",
    "\n",
    "# Obliczam pochodne po czasie\n",
    "dtTdA = diff(TdA, t).simplify()\n",
    "dtTdB = diff(TdB, t)\n",
    "display(Eq(dtdTA, dtTdA), Eq(dtdTB, dtTdB))"
   ]
  },
  {
   "cell_type": "markdown",
   "metadata": {},
   "source": [
    "# Linearyzacja"
   ]
  },
  {
   "cell_type": "markdown",
   "metadata": {},
   "source": [
    "Linearyzuję pochodne przez odrzucenie członów o pomijalnej wartości:"
   ]
  },
  {
   "cell_type": "code",
   "execution_count": 10,
   "metadata": {},
   "outputs": [
    {
     "data": {
      "image/png": "[encoded data removed]",
      "text/latex": [
       "$$dt(\\partial T/\\partial\\dot{\\alpha}) = M b r \\ddot{\\beta} + \\left(I_{z} + M \\left(b^{2} + c^{2}\\right)\\right) \\ddot{\\alpha}$$"
      ],
      "text/plain": [
       "                                                 ⎛        ⎛ 2    2⎞⎞   \n",
       "dt(\\partial T/\\partial\\dot{\\alpha}) = M⋅b⋅r⋅β̈ + ⎝I_z + M⋅⎝b  + c ⎠⎠⋅α̈"
      ]
     },
     "metadata": {},
     "output_type": "display_data"
    },
    {
     "data": {
      "image/png": "[encoded data removed]",
      "text/latex": [
       "$$dt(\\partial T/\\partial\\dot{\\beta}) = M b r \\ddot{\\alpha} + 1.5 M r^{2} \\ddot{\\beta}$$"
      ],
      "text/plain": [
       "                                                       2   \n",
       "dt(\\partial T/\\partial\\dot{\\beta}) = M⋅b⋅r⋅α̈ + 1.5⋅M⋅r ⋅β̈"
      ]
     },
     "metadata": {},
     "output_type": "display_data"
    }
   ],
   "source": [
    "dtTA = (IZ + MM*(B**2 + C**2)) * diff(alpha, t, 2) + MM*B*R * diff(beta, t, 2)\n",
    "dtTB = MM * B * R * diff(alpha, t, 2) + 1.5 * MM * R**2 * diff(beta, t, 2)\n",
    "\n",
    "display(Eq(dtdTA, dtTA), Eq(dtdTB, dtTB))"
   ]
  },
  {
   "cell_type": "markdown",
   "metadata": {},
   "source": [
    "Pochodne energii potencjalnych względem współrzędnych uogólnionych pomijam:"
   ]
  },
  {
   "cell_type": "markdown",
   "metadata": {},
   "source": [
    "\\begin{array}{l}\n",
    "\\frac{\\partial T}{\\partial \\alpha} \\approx 0 \\\\\n",
    "\\frac{\\partial T}{\\partial \\beta} \\approx 0\n",
    "\\end{array}\n"
   ]
  },
  {
   "cell_type": "markdown",
   "metadata": {},
   "source": [
    "# Równania ruchu"
   ]
  },
  {
   "cell_type": "markdown",
   "metadata": {},
   "source": [
    "Za pomocą obliczonych pochodnych wyznaczam równania ruchu układu:"
   ]
  },
  {
   "cell_type": "markdown",
   "metadata": {},
   "source": [
    "\\begin{array}{l}\n",
    "\\large\n",
    "\\frac{d}{dt}(\\frac{\\partial T}{\\partial \\dot{\\alpha}})-\\frac{\\partial T}{\\partial \\alpha}+\\frac{\\partial V}{\\partial \\alpha}=0 \\\\\n",
    "\\large\n",
    "\\frac{d}{dt}(\\frac{\\partial T}{\\partial \\dot{\\beta}})-\\frac{\\partial T}{\\partial \\beta}+\\frac{\\partial V}{\\partial \\beta}=0\n",
    "\\end{array}"
   ]
  },
  {
   "cell_type": "code",
   "execution_count": 11,
   "metadata": {},
   "outputs": [
    {
     "data": {
      "image/png": "[encoded data removed]",
      "text/latex": [
       "$$I_{z} \\ddot{\\alpha} + M b^{2} \\ddot{\\alpha} + M b r \\ddot{\\beta} + M c^{2} \\ddot{\\alpha} + 1.0 a^{2} k_{1} \\alpha + 1.0 b^{2} k_{2} \\alpha + 2.0 b k_{2} r \\beta + 1.0 k_{3} \\alpha - 1.0 k_{3} \\beta = 0$$"
      ],
      "text/plain": [
       "            2                    2           2             2                  \n",
       "I_z⋅α̈ + M⋅b ⋅α̈ + M⋅b⋅r⋅β̈ + M⋅c ⋅α̈ + 1.0⋅a ⋅k₁⋅α + 1.0⋅b ⋅k₂⋅α + 2.0⋅b⋅k₂⋅r\n",
       "\n",
       "                            \n",
       "⋅β + 1.0⋅k₃⋅α - 1.0⋅k₃⋅β = 0"
      ]
     },
     "metadata": {},
     "output_type": "display_data"
    },
    {
     "data": {
      "image/png": "[encoded data removed]",
      "text/latex": [
       "$$M b r \\ddot{\\alpha} + 1.5 M r^{2} \\ddot{\\beta} + 2.0 b k_{2} r \\alpha + 4.0 k_{2} r^{2} \\beta - 1.0 k_{3} \\alpha + 1.0 k_{3} \\beta = 0$$"
      ],
      "text/plain": [
       "                  2                             2                            \n",
       "M⋅b⋅r⋅α̈ + 1.5⋅M⋅r ⋅β̈ + 2.0⋅b⋅k₂⋅r⋅α + 4.0⋅k₂⋅r ⋅β - 1.0⋅k₃⋅α + 1.0⋅k₃⋅β = 0"
      ]
     },
     "metadata": {},
     "output_type": "display_data"
    }
   ],
   "source": [
    "display(Eq(expand(dtTA + Vda), 0), Eq(expand(dtTB + Vdb), 0))"
   ]
  },
  {
   "cell_type": "markdown",
   "metadata": {},
   "source": [
    "# Równanie charakterystyczne"
   ]
  },
  {
   "cell_type": "code",
   "execution_count": 12,
   "metadata": {},
   "outputs": [],
   "source": [
    "# Wyznaczam macierz bezwładności z równań z drugimi pochodnymi\n",
    "inert_M = linear_eq_to_matrix([Eq(dtTA, 0), Eq(dtTB, 0)], [diff(alpha, t, 2), diff(beta, t, 2)])[0]\n",
    "\n",
    "# Podstawiam dane do macierzy bezwładności\n",
    "M_vals = inert_M.subs([(A, a), (B, b), (C, c), (R, r), (MM, M),  (IZ, Iz)]).evalf(4)\n",
    "\n",
    "# Wyznaczam macierz sztywności z równań ze współ. uogólnionymi\n",
    "stiff_k = linear_eq_to_matrix([Eq(Vda, 0), Eq(Vdb, 0)], [alpha, beta])[0]\n",
    "k_vals = stiff_k.subs([(A, a), (B, b), (R, r), (K1, k1), (K2, k2), (K3, k3)]).evalf(4)"
   ]
  },
  {
   "cell_type": "markdown",
   "metadata": {},
   "source": [
    "Macierz bezwładności:"
   ]
  },
  {
   "cell_type": "code",
   "execution_count": 13,
   "metadata": {},
   "outputs": [
    {
     "data": {
      "image/png": "[encoded data removed]",
      "text/latex": [
       "$$\\left[\\begin{matrix}I_{z} + M \\left(b^{2} + c^{2}\\right) & M b r\\\\M b r & 1.5 M r^{2}\\end{matrix}\\right]$$"
      ],
      "text/plain": [
       "⎡        ⎛ 2    2⎞          ⎤\n",
       "⎢I_z + M⋅⎝b  + c ⎠   M⋅b⋅r  ⎥\n",
       "⎢                           ⎥\n",
       "⎢                          2⎥\n",
       "⎣      M⋅b⋅r        1.5⋅M⋅r ⎦"
      ]
     },
     "metadata": {},
     "output_type": "display_data"
    },
    {
     "data": {
      "image/png": "[encoded data removed]",
      "text/latex": [
       "$$\\left[\\begin{matrix}87.44 & 13.68\\\\13.68 & 8.64\\end{matrix}\\right]$$"
      ],
      "text/plain": [
       "⎡87.44  13.68⎤\n",
       "⎢            ⎥\n",
       "⎣13.68  8.64 ⎦"
      ]
     },
     "metadata": {},
     "output_type": "display_data"
    }
   ],
   "source": [
    "display(inert_M, M_vals)"
   ]
  },
  {
   "cell_type": "markdown",
   "metadata": {},
   "source": [
    "Macierz sztywności:"
   ]
  },
  {
   "cell_type": "code",
   "execution_count": 14,
   "metadata": {},
   "outputs": [
    {
     "data": {
      "image/png": "[encoded data removed]",
      "text/latex": [
       "$$\\left[\\begin{matrix}1.0 a^{2} k_{1} + 1.0 b^{2} k_{2} + 1.0 k_{3} & 2.0 b k_{2} r - 1.0 k_{3}\\\\2.0 b k_{2} r - 1.0 k_{3} & 4.0 k_{2} r^{2} + 1.0 k_{3}\\end{matrix}\\right]$$"
      ],
      "text/plain": [
       "⎡     2           2                                 ⎤\n",
       "⎢1.0⋅a ⋅k₁ + 1.0⋅b ⋅k₂ + 1.0⋅k₃  2.0⋅b⋅k₂⋅r - 1.0⋅k₃⎥\n",
       "⎢                                                   ⎥\n",
       "⎢                                        2          ⎥\n",
       "⎣     2.0⋅b⋅k₂⋅r - 1.0⋅k₃        4.0⋅k₂⋅r  + 1.0⋅k₃ ⎦"
      ]
     },
     "metadata": {},
     "output_type": "display_data"
    },
    {
     "data": {
      "image/png": "[encoded data removed]",
      "text/latex": [
       "$$\\left[\\begin{matrix}7348.0 & 4444.0\\\\4444.0 & 4516.0\\end{matrix}\\right]$$"
      ],
      "text/plain": [
       "⎡7348.0  4444.0⎤\n",
       "⎢              ⎥\n",
       "⎣4444.0  4516.0⎦"
      ]
     },
     "metadata": {},
     "output_type": "display_data"
    }
   ],
   "source": [
    "display(stiff_k, k_vals)"
   ]
  },
  {
   "cell_type": "markdown",
   "metadata": {},
   "source": [
    "# Częstości drgań własnych układu"
   ]
  },
  {
   "cell_type": "code",
   "execution_count": 15,
   "metadata": {},
   "outputs": [
    {
     "data": {
      "image/png": "[encoded data removed]",
      "text/latex": [
       "$$568.3 \\omega^{4} - 3.368 \\cdot 10^{5} \\omega^{2} + 1.343 \\cdot 10^{7} = 0$$"
      ],
      "text/plain": [
       "       4             2               \n",
       "568.3⋅ω  - 3.368e+5⋅ω  + 1.343e+7 = 0"
      ]
     },
     "metadata": {},
     "output_type": "display_data"
    }
   ],
   "source": [
    "# Symbole\n",
    "omega, o1, o2 = symbols('omega omega1 omega2')\n",
    "\n",
    "# Wyznaczam częstotliwości własne\n",
    "new = -omega**2 * M_vals + k_vals\n",
    "display(Eq(new.det().simplify().evalf(4), 0))\n",
    "freqs = solve(new.det().simplify())\n",
    "\n",
    "# Obliczam wektory własne\n",
    "q21 = -(-freqs[2]**2 * M_vals[0, 0] + k_vals[0, 0])/(-freqs[2]**2 * M_vals[0, 1] + k_vals[0, 1])\n",
    "q12 = -(-freqs[3]**2 * M_vals[1, 1] + k_vals[1, 1])/(-freqs[3]**2 * M_vals[1, 0] + k_vals[1, 0])"
   ]
  },
  {
   "cell_type": "markdown",
   "metadata": {},
   "source": [
    "Pierwsza postać [rad/s]:"
   ]
  },
  {
   "cell_type": "code",
   "execution_count": 16,
   "metadata": {},
   "outputs": [
    {
     "data": {
      "image/png": "[encoded data removed]",
      "text/latex": [
       "$$\\omega_{1} = 6.559$$"
      ],
      "text/plain": [
       "ω₁ = 6.559"
      ]
     },
     "metadata": {},
     "output_type": "display_data"
    },
    {
     "data": {
      "image/png": "[encoded data removed]",
      "text/latex": [
       "$$\\left[\\begin{matrix}1.0\\\\-0.9303\\end{matrix}\\right]$$"
      ],
      "text/plain": [
       "⎡  1.0  ⎤\n",
       "⎢       ⎥\n",
       "⎣-0.9303⎦"
      ]
     },
     "metadata": {},
     "output_type": "display_data"
    }
   ],
   "source": [
    "display(Eq(o1, freqs[2].evalf(4)), Matrix([1, q21]).evalf(4))"
   ]
  },
  {
   "cell_type": "markdown",
   "metadata": {},
   "source": [
    "Druga postać [rad/s]:"
   ]
  },
  {
   "cell_type": "code",
   "execution_count": 17,
   "metadata": {},
   "outputs": [
    {
     "data": {
      "image/png": "[encoded data removed]",
      "text/latex": [
       "$$\\omega_{2} = 23.44$$"
      ],
      "text/plain": [
       "ω₂ = 23.44"
      ]
     },
     "metadata": {},
     "output_type": "display_data"
    },
    {
     "data": {
      "image/png": "[encoded data removed]",
      "text/latex": [
       "$$\\left[\\begin{matrix}-0.07555\\\\1.0\\end{matrix}\\right]$$"
      ],
      "text/plain": [
       "⎡-0.07555⎤\n",
       "⎢        ⎥\n",
       "⎣  1.0   ⎦"
      ]
     },
     "metadata": {},
     "output_type": "display_data"
    }
   ],
   "source": [
    "display(Eq(o2, freqs[3].evalf(4)), Matrix([q12, 1]).evalf(4))"
   ]
  },
  {
   "cell_type": "markdown",
   "metadata": {},
   "source": [
    "# Wyniki"
   ]
  },
  {
   "cell_type": "markdown",
   "metadata": {},
   "source": [
    "Po lewej pierwsza postać drgań własnych układu, po prawej druga:"
   ]
  },
  {
   "cell_type": "markdown",
   "metadata": {},
   "source": [
    "![Wyniki](https://github.com/adamsmietanka/Drgania---projekt/blob/master/img/wynik.PNG?raw=true)"
   ]
  }
 ],
 "metadata": {
  "kernelspec": {
   "display_name": "Python 3",
   "language": "python",
   "name": "python3"
  },
  "language_info": {
   "codemirror_mode": {
    "name": "ipython",
    "version": 3
   },
   "file_extension": ".py",
   "mimetype": "text/x-python",
   "name": "python",
   "nbconvert_exporter": "python",
   "pygments_lexer": "ipython3",
   "version": "3.6.5"
  }
 },
 "nbformat": 4,
 "nbformat_minor": 2
}
